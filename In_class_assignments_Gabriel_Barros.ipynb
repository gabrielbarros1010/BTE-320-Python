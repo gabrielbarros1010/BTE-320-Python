{
  "nbformat": 4,
  "nbformat_minor": 0,
  "metadata": {
    "colab": {
      "provenance": [],
      "authorship_tag": "ABX9TyMh4ZAeleoKjrlIV3saGSdu",
      "include_colab_link": true
    },
    "kernelspec": {
      "name": "python3",
      "display_name": "Python 3"
    },
    "language_info": {
      "name": "python"
    }
  },
  "cells": [
    {
      "cell_type": "markdown",
      "metadata": {
        "id": "view-in-github",
        "colab_type": "text"
      },
      "source": [
        "<a href=\"https://colab.research.google.com/github/gabrielbarros1010/BTE-320-Python/blob/main/In_class_assignments_Gabriel_Barros.ipynb\" target=\"_parent\"><img src=\"https://colab.research.google.com/assets/colab-badge.svg\" alt=\"Open In Colab\"/></a>"
      ]
    },
    {
      "cell_type": "code",
      "execution_count": null,
      "metadata": {
        "colab": {
          "base_uri": "https://localhost:8080/"
        },
        "id": "2yqdApVo20iG",
        "outputId": "371ea01d-2c4d-44a1-96c7-17e8e9fa3cd0"
      },
      "outputs": [
        {
          "output_type": "stream",
          "name": "stdout",
          "text": [
            "Area= 301.44 sq ft\n"
          ]
        }
      ],
      "source": [
        " # calculating the area of a cylynder\n",
        " radius = 4\n",
        " height = 8\n",
        " pi = 3.14\n",
        " area= 2*pi*radius**2+2*pi*radius*height\n",
        " print(\"Area=\", area, \"sq ft\")"
      ]
    },
    {
      "cell_type": "code",
      "source": [
        "radius= int(input(\"radius\"))\n",
        "height= int(input(\"height\"))\n",
        "pi = 3.14\n",
        "area= 2*pi*radius**2+2*pi*radius*height\n",
        "print(\"Area=\", area, \"sq ft\")"
      ],
      "metadata": {
        "colab": {
          "base_uri": "https://localhost:8080/"
        },
        "id": "eMrkh7Bq4piz",
        "outputId": "9435dcd1-3907-4618-8f12-55a05dd46d6d"
      },
      "execution_count": null,
      "outputs": [
        {
          "output_type": "stream",
          "name": "stdout",
          "text": [
            "radius4\n",
            "height8\n",
            "Area= 301.44 sq ft\n"
          ]
        }
      ]
    },
    {
      "cell_type": "code",
      "source": [
        "n1= float(input(\"Please Provide First Number: \"))\n",
        "n2= float(input(\"Please Provide Second Number: \"))\n",
        "op= input(\"Please Provide Operator: (+,-,*,/,//,**,%): \")\n",
        "if op == \"+\":\n",
        "    print(n1+n2)\n",
        "elif op == \"-\":\n",
        "    print(n1-n2)\n",
        "elif op == \"*\":\n",
        "    print(n1*n2)\n",
        "elif op == \"/\":\n",
        "    print(n1/n2)\n",
        "elif op == \"//\":\n",
        "    print(n1//n2)\n",
        "elif op == \"**\":\n",
        "    print(n1**n2)\n",
        "elif op == \"%\":\n",
        "    print(n1%n2)\n",
        "else:\n",
        "    print(\"Invalid Operator\")\n",
        "\n",
        "\n"
      ],
      "metadata": {
        "colab": {
          "base_uri": "https://localhost:8080/"
        },
        "id": "MVTWosaZ6TJG",
        "outputId": "e175a905-0ebc-4c25-9c45-f10f4e1511e6"
      },
      "execution_count": null,
      "outputs": [
        {
          "output_type": "stream",
          "name": "stdout",
          "text": [
            "Please Provide First Number: 10\n",
            "Please Provide Second Number: 10\n",
            "Please Provide Operator: (+,-,*,/,//,**,%): *\n",
            "100.0\n"
          ]
        }
      ]
    },
    {
      "cell_type": "code",
      "source": [
        "for numberhours in range(1,9):\n",
        "  fee = 5 + 2.5*numberhours\n",
        "  print(numberhours, fee)\n",
        "  if fee <10:\n",
        "    fee = 10\n",
        "  elif fee >20:\n",
        "    fee = 20\n",
        "  print(numberhours, fee)\n",
        "\n"
      ],
      "metadata": {
        "colab": {
          "base_uri": "https://localhost:8080/"
        },
        "id": "EWBVR8lnnk9S",
        "outputId": "0cafdf53-6f7a-487f-efc8-289065222420"
      },
      "execution_count": null,
      "outputs": [
        {
          "output_type": "stream",
          "name": "stdout",
          "text": [
            "1 7.5\n",
            "1 10\n",
            "2 10.0\n",
            "2 10.0\n",
            "3 12.5\n",
            "3 12.5\n",
            "4 15.0\n",
            "4 15.0\n",
            "5 17.5\n",
            "5 17.5\n",
            "6 20.0\n",
            "6 20.0\n",
            "7 22.5\n",
            "7 20\n",
            "8 25.0\n",
            "8 20\n"
          ]
        }
      ]
    },
    {
      "cell_type": "code",
      "source": [
        "import math\n",
        "\n",
        "print(\"Ads and Profit Relation\")\n",
        "for admoney in range(0,201,25):\n",
        "  revenue = (20+2*round(math.sqrt(admoney)))*10\n",
        "  costs = 200 + admoney\n",
        "  profit = revenue - costs\n",
        "  print(admoney, profit)\n",
        "\n"
      ],
      "metadata": {
        "colab": {
          "base_uri": "https://localhost:8080/"
        },
        "id": "NzDW1lF6rMEk",
        "outputId": "0eadba9a-34f2-48e1-f5c8-16b207f072ab"
      },
      "execution_count": null,
      "outputs": [
        {
          "output_type": "stream",
          "name": "stdout",
          "text": [
            "Ads and Profit Relation\n",
            "0 0\n",
            "25 75\n",
            "50 90\n",
            "75 105\n",
            "100 100\n",
            "125 95\n",
            "150 90\n",
            "175 85\n",
            "200 80\n"
          ]
        }
      ]
    },
    {
      "cell_type": "code",
      "source": [
        "import random\n",
        "\n",
        "play = input(\"do you want to play a game (yes/no): \")\n",
        "\n",
        "while play == \"yes\":\n",
        "  p1 = input(\"player 1 chose between rock paper or scissors: \")\n",
        "  p2 = input(\"player 2 chose between rock paper or scissors: \")\n",
        "\n",
        "  print(f\"player chose {p1}; Computer chose {p2}\")\n",
        "\n",
        "  if p1 == p2:\n",
        "    print(\"Tie\")\n",
        "  elif (p1 == \"rock\" and p2 == \"scissors\")or (p1 == \"scissors\" and p2 == \"paper\")or(p1 == \"paper\" and p2 == \"rock\"):\n",
        "    print(\"player 1 wins\")\n",
        "  else:\n",
        "    print(\"player 2 wins\")\n",
        "  play = input(\"do you want to play the game again? (yes/no): \")\n",
        "print(\"good day ahead\")\n"
      ],
      "metadata": {
        "colab": {
          "base_uri": "https://localhost:8080/"
        },
        "id": "Uh1HjcCHWsma",
        "outputId": "2d593ba2-95a5-4972-9f79-772f391df228"
      },
      "execution_count": null,
      "outputs": [
        {
          "output_type": "stream",
          "name": "stdout",
          "text": [
            "do you want to play a game (yes/no): yes\n",
            "player 1 chose between rock paper or scissors: rock\n",
            "player 2 chose between rock paper or scissors: paper\n",
            "player chose rock; Computer chose paper\n",
            "player 2 wins\n",
            "do you want to play the game again? (yes/no): no\n",
            "good day ahead\n"
          ]
        }
      ]
    },
    {
      "cell_type": "code",
      "source": [
        "n = int(input(\"Please enter a number: \"))\n",
        "L = [n]\n",
        "while n == int>0:\n",
        "  print(L[n])\n",
        "  n = int(input(\"Please enter a number: \"))\n",
        "  if n == 0:\n",
        "    print: [L.sort()]\n",
        "\n"
      ],
      "metadata": {
        "colab": {
          "base_uri": "https://localhost:8080/"
        },
        "id": "ZCIcL-BDdJg-",
        "outputId": "17c5904a-e9da-4704-ed13-7bb6782b8093"
      },
      "execution_count": null,
      "outputs": [
        {
          "name": "stdout",
          "output_type": "stream",
          "text": [
            "Please enter a number: 2\n"
          ]
        }
      ]
    },
    {
      "cell_type": "code",
      "source": [
        "lst = []\n",
        "\n",
        "num = float(input('Give a number: '))\n",
        "\n",
        "while num != 0:\n",
        "  lst.append(num)\n",
        "  num = float(input('Give a number: '))\n",
        "lst.sort(reverse=True)\n",
        "print(lst)\n",
        "\n"
      ],
      "metadata": {
        "colab": {
          "base_uri": "https://localhost:8080/"
        },
        "id": "WdZ-fA__f01A",
        "outputId": "3e5e2146-8d66-4682-fed6-3e712218864b"
      },
      "execution_count": null,
      "outputs": [
        {
          "output_type": "stream",
          "name": "stdout",
          "text": [
            "Give a number: 2\n",
            "Give a number: 5\n",
            "Give a number: 56\n",
            "Give a number: 7\n",
            "Give a number: 5\n",
            "Give a number: 0\n",
            "[56.0, 7.0, 5.0, 5.0, 2.0]\n"
          ]
        }
      ]
    },
    {
      "cell_type": "code",
      "source": [
        "months = {}\n",
        "\n",
        "names = [\"Jan\", \"Feb\", \"Mar\", \"Apr\", \"May\", \"Jun\", \"Jul\", \"Aug\", \"Sept\", \"Oct\", \"Nov\", \"Dec\"]\n",
        "numbers = [1,2,3,4,5,6,7,8,9,10,11,12]\n",
        "\n",
        "for idx in range(len(numbers)):\n",
        "  months[numbers[idx]] = names[idx]\n",
        "months"
      ],
      "metadata": {
        "colab": {
          "base_uri": "https://localhost:8080/"
        },
        "id": "7wgVTG3MAHX6",
        "outputId": "5682c54b-cc84-4c84-92c4-a851b68de621"
      },
      "execution_count": null,
      "outputs": [
        {
          "output_type": "execute_result",
          "data": {
            "text/plain": [
              "{1: 'Jan',\n",
              " 2: 'Feb',\n",
              " 3: 'Mar',\n",
              " 4: 'Apr',\n",
              " 5: 'May',\n",
              " 6: 'Jun',\n",
              " 7: 'Jul',\n",
              " 8: 'Aug',\n",
              " 9: 'Sept',\n",
              " 10: 'Oct',\n",
              " 11: 'Nov',\n",
              " 12: 'Dec'}"
            ]
          },
          "metadata": {},
          "execution_count": 9
        }
      ]
    },
    {
      "cell_type": "code",
      "source": [
        "months = {}\n",
        "\n",
        "names = [\"Jan\", \"Feb\", \"Mar\", \"Apr\", \"May\", \"Jun\", \"Jul\", \"Aug\", \"Sept\", \"Oct\", \"Nov\", \"Dec\"]\n",
        "numbers = [1,2,3,4,5,6,7,8,9,10,11,12]\n",
        "\n",
        "cntr = 0\n",
        "for num in numbers:\n",
        "  months[num] = names[cntr]\n",
        "  cntr += 1\n",
        "months"
      ],
      "metadata": {
        "colab": {
          "base_uri": "https://localhost:8080/"
        },
        "id": "DdICwOVkFXWL",
        "outputId": "9f8f7a7a-424b-4719-a8b1-5d5a8b3bda28"
      },
      "execution_count": null,
      "outputs": [
        {
          "output_type": "execute_result",
          "data": {
            "text/plain": [
              "{1: 'Jan',\n",
              " 2: 'Feb',\n",
              " 3: 'Mar',\n",
              " 4: 'Apr',\n",
              " 5: 'May',\n",
              " 6: 'Jun',\n",
              " 7: 'Jul',\n",
              " 8: 'Aug',\n",
              " 9: 'Sept',\n",
              " 10: 'Oct',\n",
              " 11: 'Nov',\n",
              " 12: 'Dec'}"
            ]
          },
          "metadata": {},
          "execution_count": 11
        }
      ]
    },
    {
      "cell_type": "code",
      "source": [
        "months = {}\n",
        "\n",
        "names = [\"Jan\", \"Feb\", \"Mar\", \"Apr\", \"May\", \"Jun\", \"Jul\", \"Aug\", \"Sept\", \"Oct\", \"Nov\", \"Dec\"]\n",
        "numbers = [1,2,3,4,5,6,7,8,9,10,11,12]\n",
        "\n",
        "for num in numbers:\n",
        "  months[num] = names[num-1]\n",
        "months"
      ],
      "metadata": {
        "colab": {
          "base_uri": "https://localhost:8080/"
        },
        "id": "8ZNWLia-GBUq",
        "outputId": "c18d9733-252c-4808-a4a7-d8372f4c1b55"
      },
      "execution_count": null,
      "outputs": [
        {
          "output_type": "execute_result",
          "data": {
            "text/plain": [
              "{1: 'Jan',\n",
              " 2: 'Feb',\n",
              " 3: 'Mar',\n",
              " 4: 'Apr',\n",
              " 5: 'May',\n",
              " 6: 'Jun',\n",
              " 7: 'Jul',\n",
              " 8: 'Aug',\n",
              " 9: 'Sept',\n",
              " 10: 'Oct',\n",
              " 11: 'Nov',\n",
              " 12: 'Dec'}"
            ]
          },
          "metadata": {},
          "execution_count": 13
        }
      ]
    },
    {
      "cell_type": "markdown",
      "source": [
        "counts = {}\n",
        "\n",
        "while len(counts) < 5:\n",
        "  key = input(\"give a string \")\n",
        "\n",
        "  if key not in counts:\n",
        "    counts[key] = 1\n",
        "  else:\n",
        "    counts[key] += 1\n",
        "counts\n",
        "\n",
        "\n",
        "\n",
        "\n",
        "\n",
        "\n"
      ],
      "metadata": {
        "id": "FezlCSwcHjt8"
      }
    },
    {
      "cell_type": "code",
      "source": [
        "def calcFee(hours):\n",
        "  fee = 5 + 2.5 * hours\n",
        "  if fee < 10:\n",
        "    fee = 10\n",
        "  elif fee > 20:\n",
        "    fee = 20\n",
        "  print(f\"fee: {fee}$\")\n",
        "\n",
        "numHours = int(input(\"number of hours: \"))\n",
        "calcFee(numHours)\n",
        "\n"
      ],
      "metadata": {
        "colab": {
          "base_uri": "https://localhost:8080/"
        },
        "id": "-wmEE0xT3fGd",
        "outputId": "f3c4ce12-2491-47fd-b317-9d576a7d4336"
      },
      "execution_count": 6,
      "outputs": [
        {
          "output_type": "stream",
          "name": "stdout",
          "text": [
            "number of hours: 6\n",
            "fee: 20.0$\n"
          ]
        }
      ]
    }
  ]
}