{
  "nbformat": 4,
  "nbformat_minor": 0,
  "metadata": {
    "colab": {
      "provenance": [],
      "authorship_tag": "ABX9TyN2k9IhzTI32YclwqXrm1+q",
      "include_colab_link": true
    },
    "kernelspec": {
      "name": "python3",
      "display_name": "Python 3"
    },
    "language_info": {
      "name": "python"
    }
  },
  "cells": [
    {
      "cell_type": "markdown",
      "metadata": {
        "id": "view-in-github",
        "colab_type": "text"
      },
      "source": [
        "<a href=\"https://colab.research.google.com/github/gabrielbarros1010/BTE-320-Python/blob/main/In_class_assignments_Gabriel_Barros.ipynb\" target=\"_parent\"><img src=\"https://colab.research.google.com/assets/colab-badge.svg\" alt=\"Open In Colab\"/></a>"
      ]
    },
    {
      "cell_type": "code",
      "execution_count": null,
      "metadata": {
        "colab": {
          "base_uri": "https://localhost:8080/"
        },
        "id": "2yqdApVo20iG",
        "outputId": "371ea01d-2c4d-44a1-96c7-17e8e9fa3cd0"
      },
      "outputs": [
        {
          "output_type": "stream",
          "name": "stdout",
          "text": [
            "Area= 301.44 sq ft\n"
          ]
        }
      ],
      "source": [
        " # calculating the area of a cylynder\n",
        " radius = 4\n",
        " height = 8\n",
        " pi = 3.14\n",
        " area= 2*pi*radius**2+2*pi*radius*height\n",
        " print(\"Area=\", area, \"sq ft\")"
      ]
    },
    {
      "cell_type": "code",
      "source": [
        "radius= int(input(\"radius\"))\n",
        "height= int(input(\"height\"))\n",
        "pi = 3.14\n",
        "area= 2*pi*radius**2+2*pi*radius*height\n",
        "print(\"Area=\", area, \"sq ft\")"
      ],
      "metadata": {
        "colab": {
          "base_uri": "https://localhost:8080/"
        },
        "id": "eMrkh7Bq4piz",
        "outputId": "9435dcd1-3907-4618-8f12-55a05dd46d6d"
      },
      "execution_count": null,
      "outputs": [
        {
          "output_type": "stream",
          "name": "stdout",
          "text": [
            "radius4\n",
            "height8\n",
            "Area= 301.44 sq ft\n"
          ]
        }
      ]
    },
    {
      "cell_type": "code",
      "source": [
        "n1= float(input(\"Please Provide First Number: \"))\n",
        "n2= float(input(\"Please Provide Second Number: \"))\n",
        "op= input(\"Please Provide Operator: (+,-,*,/,//,**,%): \")\n",
        "if op == \"+\":\n",
        "    print(n1+n2)\n",
        "elif op == \"-\":\n",
        "    print(n1-n2)\n",
        "elif op == \"*\":\n",
        "    print(n1*n2)\n",
        "elif op == \"/\":\n",
        "    print(n1/n2)\n",
        "elif op == \"//\":\n",
        "    print(n1//n2)\n",
        "elif op == \"**\":\n",
        "    print(n1**n2)\n",
        "elif op == \"%\":\n",
        "    print(n1%n2)\n",
        "else:\n",
        "    print(\"Invalid Operator\")\n",
        "\n",
        "\n"
      ],
      "metadata": {
        "colab": {
          "base_uri": "https://localhost:8080/"
        },
        "id": "MVTWosaZ6TJG",
        "outputId": "e175a905-0ebc-4c25-9c45-f10f4e1511e6"
      },
      "execution_count": null,
      "outputs": [
        {
          "output_type": "stream",
          "name": "stdout",
          "text": [
            "Please Provide First Number: 10\n",
            "Please Provide Second Number: 10\n",
            "Please Provide Operator: (+,-,*,/,//,**,%): *\n",
            "100.0\n"
          ]
        }
      ]
    },
    {
      "cell_type": "code",
      "source": [
        "for numberhours in range(1,9):\n",
        "  fee = 5 + 2.5*numberhours\n",
        "  print(numberhours, fee)\n",
        "  if fee <10:\n",
        "    fee = 10\n",
        "  elif fee >20:\n",
        "    fee = 20\n",
        "  print(numberhours, fee)\n",
        "\n"
      ],
      "metadata": {
        "colab": {
          "base_uri": "https://localhost:8080/"
        },
        "id": "EWBVR8lnnk9S",
        "outputId": "0cafdf53-6f7a-487f-efc8-289065222420"
      },
      "execution_count": null,
      "outputs": [
        {
          "output_type": "stream",
          "name": "stdout",
          "text": [
            "1 7.5\n",
            "1 10\n",
            "2 10.0\n",
            "2 10.0\n",
            "3 12.5\n",
            "3 12.5\n",
            "4 15.0\n",
            "4 15.0\n",
            "5 17.5\n",
            "5 17.5\n",
            "6 20.0\n",
            "6 20.0\n",
            "7 22.5\n",
            "7 20\n",
            "8 25.0\n",
            "8 20\n"
          ]
        }
      ]
    },
    {
      "cell_type": "code",
      "source": [
        "import math\n",
        "\n",
        "print(\"Ads and Profit Relation\")\n",
        "for admoney in range(0,201,25):\n",
        "  revenue = (20+2*round(math.sqrt(admoney)))*10\n",
        "  costs = 200 + admoney\n",
        "  profit = revenue - costs\n",
        "  print(admoney, profit)\n",
        "\n"
      ],
      "metadata": {
        "colab": {
          "base_uri": "https://localhost:8080/"
        },
        "id": "NzDW1lF6rMEk",
        "outputId": "0eadba9a-34f2-48e1-f5c8-16b207f072ab"
      },
      "execution_count": null,
      "outputs": [
        {
          "output_type": "stream",
          "name": "stdout",
          "text": [
            "Ads and Profit Relation\n",
            "0 0\n",
            "25 75\n",
            "50 90\n",
            "75 105\n",
            "100 100\n",
            "125 95\n",
            "150 90\n",
            "175 85\n",
            "200 80\n"
          ]
        }
      ]
    },
    {
      "cell_type": "code",
      "source": [
        "import random\n",
        "\n",
        "play = input(\"do you want to play a game (yes/no): \")\n",
        "\n",
        "while play == \"yes\":\n",
        "  p1 = input(\"player 1 chose between rock paper or scissors: \")\n",
        "  p2 = input(\"player 2 chose between rock paper or scissors: \")\n",
        "\n",
        "  print(f\"player chose {p1}; Computer chose {p2}\")\n",
        "\n",
        "  if p1 == p2:\n",
        "    print(\"Tie\")\n",
        "  elif (p1 == \"rock\" and p2 == \"scissors\")or (p1 == \"scissors\" and p2 == \"paper\")or(p1 == \"paper\" and p2 == \"rock\"):\n",
        "    print(\"player 1 wins\")\n",
        "  else:\n",
        "    print(\"player 2 wins\")\n",
        "  play = input(\"do you want to play the game again? (yes/no): \")\n",
        "print(\"good day ahead\")\n",
        ""
      ],
      "metadata": {
        "colab": {
          "base_uri": "https://localhost:8080/"
        },
        "id": "Uh1HjcCHWsma",
        "outputId": "2d593ba2-95a5-4972-9f79-772f391df228"
      },
      "execution_count": 36,
      "outputs": [
        {
          "output_type": "stream",
          "name": "stdout",
          "text": [
            "do you want to play a game (yes/no): yes\n",
            "player 1 chose between rock paper or scissors: rock\n",
            "player 2 chose between rock paper or scissors: paper\n",
            "player chose rock; Computer chose paper\n",
            "player 2 wins\n",
            "do you want to play the game again? (yes/no): no\n",
            "good day ahead\n"
          ]
        }
      ]
    }
  ]
}